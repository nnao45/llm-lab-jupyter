{
 "cells": [
  {
   "cell_type": "code",
   "execution_count": 10,
   "metadata": {
    "collapsed": true,
    "ExecuteTime": {
     "end_time": "2023-06-28T14:26:05.719Z",
     "start_time": "2023-06-28T14:26:05.714803900Z"
    }
   },
   "outputs": [],
   "source": [
    "from qdrant_client import QdrantClient\n",
    "\n",
    "client = QdrantClient(path=\"assets/test_index\")"
   ]
  },
  {
   "cell_type": "code",
   "execution_count": 11,
   "outputs": [
    {
     "data": {
      "text/plain": "True"
     },
     "execution_count": 11,
     "metadata": {},
     "output_type": "execute_result"
    }
   ],
   "source": [
    "from qdrant_client.models import Distance, VectorParams\n",
    "\n",
    "client.recreate_collection(\n",
    "    collection_name=\"my_collection\",\n",
    "    vectors_config=VectorParams(size=100, distance=Distance.COSINE),\n",
    ")"
   ],
   "metadata": {
    "collapsed": false,
    "ExecuteTime": {
     "end_time": "2023-06-28T14:26:06.532245500Z",
     "start_time": "2023-06-28T14:26:06.436442200Z"
    }
   }
  },
  {
   "cell_type": "code",
   "execution_count": 12,
   "outputs": [
    {
     "data": {
      "text/plain": "UpdateResult(operation_id=0, status=<UpdateStatus.COMPLETED: 'completed'>)"
     },
     "execution_count": 12,
     "metadata": {},
     "output_type": "execute_result"
    }
   ],
   "source": [
    "import numpy as np\n",
    "from qdrant_client.models import PointStruct\n",
    "\n",
    "vectors = np.random.rand(100, 100)\n",
    "client.upsert(\n",
    "    collection_name=\"my_collection\",\n",
    "    points=[\n",
    "        PointStruct(\n",
    "            id=idx,\n",
    "            vector=vector.tolist(),\n",
    "            payload={\"color\": \"red\", \"rand_number\": idx % 10}\n",
    "        )\n",
    "        for idx, vector in enumerate(vectors)\n",
    "    ]\n",
    ")"
   ],
   "metadata": {
    "collapsed": false,
    "ExecuteTime": {
     "end_time": "2023-06-28T14:26:08.203346400Z",
     "start_time": "2023-06-28T14:26:07.006814800Z"
    }
   }
  },
  {
   "cell_type": "code",
   "execution_count": 13,
   "outputs": [],
   "source": [
    "query_vector = np.random.rand(100)\n",
    "hits = client.search(\n",
    "    collection_name=\"my_collection\",\n",
    "    query_vector=query_vector,\n",
    "    limit=5  # Return 5 closest points\n",
    ")"
   ],
   "metadata": {
    "collapsed": false,
    "ExecuteTime": {
     "end_time": "2023-06-28T14:26:08.211877400Z",
     "start_time": "2023-06-28T14:26:08.204852800Z"
    }
   }
  },
  {
   "cell_type": "code",
   "execution_count": 14,
   "outputs": [
    {
     "data": {
      "text/plain": "[ScoredPoint(id=7, version=0, score=0.7934475353868164, payload={'color': 'red', 'rand_number': 7}, vector=None),\n ScoredPoint(id=28, version=0, score=0.7871158400188266, payload={'color': 'red', 'rand_number': 8}, vector=None),\n ScoredPoint(id=40, version=0, score=0.784142278057151, payload={'color': 'red', 'rand_number': 0}, vector=None),\n ScoredPoint(id=65, version=0, score=0.7830619731247263, payload={'color': 'red', 'rand_number': 5}, vector=None),\n ScoredPoint(id=48, version=0, score=0.7761585005640468, payload={'color': 'red', 'rand_number': 8}, vector=None)]"
     },
     "execution_count": 14,
     "metadata": {},
     "output_type": "execute_result"
    }
   ],
   "source": [
    "hits"
   ],
   "metadata": {
    "collapsed": false,
    "ExecuteTime": {
     "end_time": "2023-06-28T14:26:09.804221900Z",
     "start_time": "2023-06-28T14:26:09.748693800Z"
    }
   }
  },
  {
   "cell_type": "code",
   "execution_count": 15,
   "outputs": [],
   "source": [
    "from qdrant_client.models import Filter, FieldCondition, Range\n",
    "\n",
    "hits = client.search(\n",
    "    collection_name=\"my_collection\",\n",
    "    query_vector=query_vector,\n",
    "    query_filter=Filter(\n",
    "        must=[  # These conditions are required for search results\n",
    "            FieldCondition(\n",
    "                key='rand_number',  # Condition based on values of `rand_number` field.\n",
    "                range=Range(\n",
    "                    gte=9  # Select only those results where `rand_number` >= 3\n",
    "                )\n",
    "            )\n",
    "        ]\n",
    "    ),\n",
    "    limit=5  # Return 5 closest points\n",
    ")"
   ],
   "metadata": {
    "collapsed": false,
    "ExecuteTime": {
     "end_time": "2023-06-28T14:26:10.649189Z",
     "start_time": "2023-06-28T14:26:10.593879800Z"
    }
   }
  },
  {
   "cell_type": "code",
   "execution_count": 16,
   "outputs": [
    {
     "data": {
      "text/plain": "[ScoredPoint(id=89, version=0, score=0.7595440212197094, payload={'color': 'red', 'rand_number': 9}, vector=None),\n ScoredPoint(id=19, version=0, score=0.7557644013138394, payload={'color': 'red', 'rand_number': 9}, vector=None),\n ScoredPoint(id=99, version=0, score=0.7451154389665714, payload={'color': 'red', 'rand_number': 9}, vector=None),\n ScoredPoint(id=9, version=0, score=0.7312356483170487, payload={'color': 'red', 'rand_number': 9}, vector=None),\n ScoredPoint(id=59, version=0, score=0.7265165585329112, payload={'color': 'red', 'rand_number': 9}, vector=None)]"
     },
     "execution_count": 16,
     "metadata": {},
     "output_type": "execute_result"
    }
   ],
   "source": [
    "hits"
   ],
   "metadata": {
    "collapsed": false,
    "ExecuteTime": {
     "end_time": "2023-06-28T14:26:11.398731600Z",
     "start_time": "2023-06-28T14:26:11.347737Z"
    }
   }
  },
  {
   "cell_type": "code",
   "execution_count": 2,
   "outputs": [],
   "source": [
    "from qdrant_client import QdrantClient\n",
    "client2= QdrantClient(path=\"assets/test_index\")"
   ],
   "metadata": {
    "collapsed": false,
    "ExecuteTime": {
     "end_time": "2023-06-28T14:29:14.324678Z",
     "start_time": "2023-06-28T14:29:13.809796700Z"
    }
   }
  },
  {
   "cell_type": "code",
   "execution_count": 6,
   "outputs": [],
   "source": [
    "import numpy as np\n",
    "from qdrant_client.models import Filter, FieldCondition, Range\n",
    "\n",
    "query_vector = np.random.rand(100)\n",
    "hits = client2.search(\n",
    "    collection_name=\"my_collection\",\n",
    "    query_vector=query_vector,\n",
    "    query_filter=Filter(\n",
    "        must=[  # These conditions are required for search results\n",
    "            FieldCondition(\n",
    "                key='rand_number',  # Condition based on values of `rand_number` field.\n",
    "                range=Range(\n",
    "                    gte=9  # Select only those results where `rand_number` >= 3\n",
    "                )\n",
    "            )\n",
    "        ]\n",
    "    ),\n",
    "    limit=5  # Return 5 closest points\n",
    ")"
   ],
   "metadata": {
    "collapsed": false,
    "ExecuteTime": {
     "end_time": "2023-06-28T14:30:42.998503600Z",
     "start_time": "2023-06-28T14:30:42.963629800Z"
    }
   }
  },
  {
   "cell_type": "code",
   "execution_count": 7,
   "outputs": [
    {
     "data": {
      "text/plain": "[ScoredPoint(id=39, version=0, score=0.7905049919868914, payload={'color': 'red', 'rand_number': 9}, vector=None),\n ScoredPoint(id=79, version=0, score=0.7690636686103687, payload={'color': 'red', 'rand_number': 9}, vector=None),\n ScoredPoint(id=59, version=0, score=0.75715675138132, payload={'color': 'red', 'rand_number': 9}, vector=None),\n ScoredPoint(id=9, version=0, score=0.755870443046094, payload={'color': 'red', 'rand_number': 9}, vector=None),\n ScoredPoint(id=29, version=0, score=0.7454039803407233, payload={'color': 'red', 'rand_number': 9}, vector=None)]"
     },
     "execution_count": 7,
     "metadata": {},
     "output_type": "execute_result"
    }
   ],
   "source": [
    "hits"
   ],
   "metadata": {
    "collapsed": false,
    "ExecuteTime": {
     "end_time": "2023-06-28T14:30:47.686501200Z",
     "start_time": "2023-06-28T14:30:47.640351300Z"
    }
   }
  },
  {
   "cell_type": "code",
   "execution_count": null,
   "outputs": [],
   "source": [],
   "metadata": {
    "collapsed": false
   }
  }
 ],
 "metadata": {
  "kernelspec": {
   "display_name": "Python 3",
   "language": "python",
   "name": "python3"
  },
  "language_info": {
   "codemirror_mode": {
    "name": "ipython",
    "version": 2
   },
   "file_extension": ".py",
   "mimetype": "text/x-python",
   "name": "python",
   "nbconvert_exporter": "python",
   "pygments_lexer": "ipython2",
   "version": "2.7.6"
  }
 },
 "nbformat": 4,
 "nbformat_minor": 0
}
